{
 "cells": [
  {
   "cell_type": "code",
   "execution_count": 1,
   "metadata": {},
   "outputs": [],
   "source": [
    "import torch\n",
    "from net import MLP\n",
    "from net import RNNModel\n",
    "from net import LSTMModel"
   ]
  },
  {
   "cell_type": "code",
   "execution_count": 2,
   "metadata": {},
   "outputs": [],
   "source": [
    "model_type = \"BRNN\"\n",
    "model_idx = 0"
   ]
  },
  {
   "cell_type": "code",
   "execution_count": 5,
   "metadata": {},
   "outputs": [],
   "source": [
    "#model_name = \"models/\" + model_type + str(model_idx)\n",
    "#model = torch.load(model_name, map_location=torch.device('cpu'))\n",
    "\n",
    "model = RNNModel(26, 185, 61, bidirectional=True)"
   ]
  },
  {
   "cell_type": "code",
   "execution_count": 6,
   "metadata": {},
   "outputs": [
    {
     "name": "stdout",
     "output_type": "stream",
     "text": [
      "rnn.weight_ih_l0 torch.Size([185, 26])\n",
      "rnn.weight_hh_l0 torch.Size([185, 185])\n",
      "rnn.bias_ih_l0 torch.Size([185])\n",
      "rnn.bias_hh_l0 torch.Size([185])\n",
      "rnn.weight_ih_l0_reverse torch.Size([185, 26])\n",
      "rnn.weight_hh_l0_reverse torch.Size([185, 185])\n",
      "rnn.bias_ih_l0_reverse torch.Size([185])\n",
      "rnn.bias_hh_l0_reverse torch.Size([185])\n",
      "fc.weight torch.Size([61, 370])\n",
      "fc.bias torch.Size([61])\n",
      "tensor(101441)\n"
     ]
    }
   ],
   "source": [
    "num_params = []\n",
    "for name, param in model.named_parameters():\n",
    "    print(name, param.size())\n",
    "    num_params.append(torch.numel(param))\n",
    "    \n",
    "print(torch.sum(torch.tensor(num_params)))"
   ]
  },
  {
   "cell_type": "code",
   "execution_count": null,
   "metadata": {},
   "outputs": [],
   "source": [
    "blah = []\n",
    "blah.append(torch.tensor([1,2]))\n",
    "blah.append(torch.tensor([3,4]))"
   ]
  },
  {
   "cell_type": "code",
   "execution_count": null,
   "metadata": {},
   "outputs": [],
   "source": [
    "blah"
   ]
  },
  {
   "cell_type": "code",
   "execution_count": null,
   "metadata": {},
   "outputs": [],
   "source": []
  }
 ],
 "metadata": {
  "kernelspec": {
   "display_name": "Python 3",
   "language": "python",
   "name": "python3"
  },
  "language_info": {
   "codemirror_mode": {
    "name": "ipython",
    "version": 3
   },
   "file_extension": ".py",
   "mimetype": "text/x-python",
   "name": "python",
   "nbconvert_exporter": "python",
   "pygments_lexer": "ipython3",
   "version": "3.7.1"
  }
 },
 "nbformat": 4,
 "nbformat_minor": 2
}
